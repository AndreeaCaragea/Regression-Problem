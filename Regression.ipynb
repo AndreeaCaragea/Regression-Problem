{
 "cells": [
  {
   "cell_type": "markdown",
   "metadata": {
    "id": "mG30o5oaMTkz"
   },
   "source": [
    "**Regression**"
   ]
  },
  {
   "cell_type": "markdown",
   "metadata": {
    "id": "srKDTd0gMYzL"
   },
   "source": [
    " In this problem, the task is to appropriately analyse and preprocess spotify music data to then subsequently develop machine learning models which can accurately predict the\n",
    " popularity of a song based on several features in the dataset. Given that the output variable is an integer on a continuous spectrum, this problem classifies as a regression problem.\n",
    " Many of the commonly used data analysis and machine learning modules were imported into the coding environment, such as numpy, Pandas and Sci-kit Learn. Furthermore, many different\n",
    " machine learning models were used for prediction analysis. The models are linear regression, decision tree and random forest.\n",
    "\n",
    " To begin, the data was imported and an initial investigation was undertaken to understand the nature of the dataset. This was done to identify the types of data stored in each columns,\n",
    " and gain an insight into the features which would affect the model. This was done using the .head() and .describe() methods.\n",
    "\n",
    " Thereafter, a heatmap was created to identify if there were any missing data in the dataset using seaborn, and also the magnitude of the missing data. It was important to understand that if\n",
    " there was a significant amount of missing data, that further analysis may have to be undertaken to fill these values, or potentially removal of the full column. However, in this case,\n",
    " as the amount of missing data was minimal, the missing values were dropped from the dataset. A correlation matrix was then created using matplotlib, to identify if there was a potential\n",
    " for multicollinearity. This was the case, and the 'nrgy' column was dropped. Columns containing categorical data were also dropped. Furthermore, the ID column was dropped as the values\n",
    " in this column did not amount to any relationship with the popularity of the song."
   ]
  },
  {
   "cell_type": "code",
   "execution_count": 136,
   "metadata": {
    "id": "I-8I_ngg0SGn"
   },
   "outputs": [],
   "source": [
    "# Import modules\n",
    "\n",
    "import numpy as np\n",
    "import pandas as pd\n",
    "import seaborn as sns\n",
    "import os\n",
    "import matplotlib.pyplot as plt\n",
    "import plotly\n",
    "import scipy\n",
    "from sklearn.model_selection import train_test_split\n",
    "from sklearn import tree\n",
    "from sklearn.tree import DecisionTreeRegressor\n",
    "from sklearn.ensemble import RandomForestRegressor\n",
    "from sklearn.preprocessing import StandardScaler\n",
    "from sklearn.linear_model import LinearRegression\n",
    "from sklearn.metrics import mean_squared_error, r2_score"
   ]
  },
  {
   "cell_type": "code",
   "execution_count": 137,
   "metadata": {
    "colab": {
     "base_uri": "https://localhost:8080/"
    },
    "id": "3EnTc8nvJEsG",
    "outputId": "74ac5ee2-6fec-4d1f-f838-9bd8717d3e77"
   },
   "outputs": [
    {
     "data": {
      "text/plain": [
       "((114, 14), (453, 15))"
      ]
     },
     "execution_count": 137,
     "metadata": {},
     "output_type": "execute_result"
    }
   ],
   "source": [
    "#import data sets\n",
    "\n",
    "train_set = pd.read_csv('D:/cs 987/RTrain.csv')\n",
    "test_set = pd.read_csv('D:/cs 987/RTest.csv')\n",
    "\n",
    "\n",
    "test_set.shape , train_set.shape"
   ]
  },
  {
   "cell_type": "code",
   "execution_count": 138,
   "metadata": {
    "id": "qnSw4CmWJPgP"
   },
   "outputs": [
    {
     "data": {
      "text/html": [
       "<div>\n",
       "<style scoped>\n",
       "    .dataframe tbody tr th:only-of-type {\n",
       "        vertical-align: middle;\n",
       "    }\n",
       "\n",
       "    .dataframe tbody tr th {\n",
       "        vertical-align: top;\n",
       "    }\n",
       "\n",
       "    .dataframe thead th {\n",
       "        text-align: right;\n",
       "    }\n",
       "</style>\n",
       "<table border=\"1\" class=\"dataframe\">\n",
       "  <thead>\n",
       "    <tr style=\"text-align: right;\">\n",
       "      <th></th>\n",
       "      <th>Id</th>\n",
       "      <th>title</th>\n",
       "      <th>artist</th>\n",
       "      <th>top genre</th>\n",
       "      <th>year</th>\n",
       "      <th>bpm</th>\n",
       "      <th>nrgy</th>\n",
       "      <th>dnce</th>\n",
       "      <th>dB</th>\n",
       "      <th>live</th>\n",
       "      <th>val</th>\n",
       "      <th>dur</th>\n",
       "      <th>acous</th>\n",
       "      <th>spch</th>\n",
       "      <th>pop</th>\n",
       "    </tr>\n",
       "  </thead>\n",
       "  <tbody>\n",
       "    <tr>\n",
       "      <th>0</th>\n",
       "      <td>1</td>\n",
       "      <td>My Happiness</td>\n",
       "      <td>Connie Francis</td>\n",
       "      <td>adult standards</td>\n",
       "      <td>1996</td>\n",
       "      <td>107</td>\n",
       "      <td>31</td>\n",
       "      <td>45</td>\n",
       "      <td>-8</td>\n",
       "      <td>13</td>\n",
       "      <td>28</td>\n",
       "      <td>150</td>\n",
       "      <td>75</td>\n",
       "      <td>3</td>\n",
       "      <td>44</td>\n",
       "    </tr>\n",
       "    <tr>\n",
       "      <th>1</th>\n",
       "      <td>2</td>\n",
       "      <td>Unchained Melody</td>\n",
       "      <td>The Teddy Bears</td>\n",
       "      <td>NaN</td>\n",
       "      <td>2011</td>\n",
       "      <td>114</td>\n",
       "      <td>44</td>\n",
       "      <td>53</td>\n",
       "      <td>-8</td>\n",
       "      <td>13</td>\n",
       "      <td>47</td>\n",
       "      <td>139</td>\n",
       "      <td>49</td>\n",
       "      <td>3</td>\n",
       "      <td>37</td>\n",
       "    </tr>\n",
       "    <tr>\n",
       "      <th>2</th>\n",
       "      <td>3</td>\n",
       "      <td>How Deep Is Your Love</td>\n",
       "      <td>Bee Gees</td>\n",
       "      <td>adult standards</td>\n",
       "      <td>1979</td>\n",
       "      <td>105</td>\n",
       "      <td>36</td>\n",
       "      <td>63</td>\n",
       "      <td>-9</td>\n",
       "      <td>13</td>\n",
       "      <td>67</td>\n",
       "      <td>245</td>\n",
       "      <td>11</td>\n",
       "      <td>3</td>\n",
       "      <td>77</td>\n",
       "    </tr>\n",
       "    <tr>\n",
       "      <th>3</th>\n",
       "      <td>4</td>\n",
       "      <td>Woman in Love</td>\n",
       "      <td>Barbra Streisand</td>\n",
       "      <td>adult standards</td>\n",
       "      <td>1980</td>\n",
       "      <td>170</td>\n",
       "      <td>28</td>\n",
       "      <td>47</td>\n",
       "      <td>-16</td>\n",
       "      <td>13</td>\n",
       "      <td>33</td>\n",
       "      <td>232</td>\n",
       "      <td>25</td>\n",
       "      <td>3</td>\n",
       "      <td>67</td>\n",
       "    </tr>\n",
       "    <tr>\n",
       "      <th>4</th>\n",
       "      <td>5</td>\n",
       "      <td>Goodbye Yellow Brick Road - Remastered 2014</td>\n",
       "      <td>Elton John</td>\n",
       "      <td>glam rock</td>\n",
       "      <td>1973</td>\n",
       "      <td>121</td>\n",
       "      <td>47</td>\n",
       "      <td>56</td>\n",
       "      <td>-8</td>\n",
       "      <td>15</td>\n",
       "      <td>40</td>\n",
       "      <td>193</td>\n",
       "      <td>45</td>\n",
       "      <td>3</td>\n",
       "      <td>63</td>\n",
       "    </tr>\n",
       "  </tbody>\n",
       "</table>\n",
       "</div>"
      ],
      "text/plain": [
       "   Id                                        title            artist  \\\n",
       "0   1                                 My Happiness    Connie Francis   \n",
       "1   2                             Unchained Melody   The Teddy Bears   \n",
       "2   3                        How Deep Is Your Love          Bee Gees   \n",
       "3   4                                Woman in Love  Barbra Streisand   \n",
       "4   5  Goodbye Yellow Brick Road - Remastered 2014        Elton John   \n",
       "\n",
       "         top genre  year  bpm  nrgy  dnce  dB  live  val  dur  acous  spch  \\\n",
       "0  adult standards  1996  107    31    45  -8    13   28  150     75     3   \n",
       "1              NaN  2011  114    44    53  -8    13   47  139     49     3   \n",
       "2  adult standards  1979  105    36    63  -9    13   67  245     11     3   \n",
       "3  adult standards  1980  170    28    47 -16    13   33  232     25     3   \n",
       "4        glam rock  1973  121    47    56  -8    15   40  193     45     3   \n",
       "\n",
       "   pop  \n",
       "0   44  \n",
       "1   37  \n",
       "2   77  \n",
       "3   67  \n",
       "4   63  "
      ]
     },
     "execution_count": 138,
     "metadata": {},
     "output_type": "execute_result"
    }
   ],
   "source": [
    "# check first few rows\n",
    "\n",
    "train_set.head()"
   ]
  },
  {
   "cell_type": "code",
   "execution_count": 139,
   "metadata": {
    "id": "BsV-iLAxKFCQ"
   },
   "outputs": [
    {
     "data": {
      "text/html": [
       "<div>\n",
       "<style scoped>\n",
       "    .dataframe tbody tr th:only-of-type {\n",
       "        vertical-align: middle;\n",
       "    }\n",
       "\n",
       "    .dataframe tbody tr th {\n",
       "        vertical-align: top;\n",
       "    }\n",
       "\n",
       "    .dataframe thead th {\n",
       "        text-align: right;\n",
       "    }\n",
       "</style>\n",
       "<table border=\"1\" class=\"dataframe\">\n",
       "  <thead>\n",
       "    <tr style=\"text-align: right;\">\n",
       "      <th></th>\n",
       "      <th>Id</th>\n",
       "      <th>title</th>\n",
       "      <th>artist</th>\n",
       "      <th>top genre</th>\n",
       "      <th>year</th>\n",
       "      <th>bpm</th>\n",
       "      <th>nrgy</th>\n",
       "      <th>dnce</th>\n",
       "      <th>dB</th>\n",
       "      <th>live</th>\n",
       "      <th>val</th>\n",
       "      <th>dur</th>\n",
       "      <th>acous</th>\n",
       "      <th>spch</th>\n",
       "    </tr>\n",
       "  </thead>\n",
       "  <tbody>\n",
       "    <tr>\n",
       "      <th>0</th>\n",
       "      <td>454</td>\n",
       "      <td>Pump It</td>\n",
       "      <td>The Black Eyed Peas</td>\n",
       "      <td>dance pop</td>\n",
       "      <td>2005</td>\n",
       "      <td>154</td>\n",
       "      <td>93</td>\n",
       "      <td>65</td>\n",
       "      <td>-3</td>\n",
       "      <td>75</td>\n",
       "      <td>74</td>\n",
       "      <td>213</td>\n",
       "      <td>1</td>\n",
       "      <td>18</td>\n",
       "    </tr>\n",
       "    <tr>\n",
       "      <th>1</th>\n",
       "      <td>455</td>\n",
       "      <td>Circle of Life - From \"The Lion King\"/Soundtra...</td>\n",
       "      <td>Elton John</td>\n",
       "      <td>glam rock</td>\n",
       "      <td>1994</td>\n",
       "      <td>161</td>\n",
       "      <td>39</td>\n",
       "      <td>30</td>\n",
       "      <td>-15</td>\n",
       "      <td>11</td>\n",
       "      <td>14</td>\n",
       "      <td>292</td>\n",
       "      <td>26</td>\n",
       "      <td>3</td>\n",
       "    </tr>\n",
       "    <tr>\n",
       "      <th>2</th>\n",
       "      <td>456</td>\n",
       "      <td>We Are The Champions - Remastered 2011</td>\n",
       "      <td>Queen</td>\n",
       "      <td>glam rock</td>\n",
       "      <td>1977</td>\n",
       "      <td>64</td>\n",
       "      <td>46</td>\n",
       "      <td>27</td>\n",
       "      <td>-7</td>\n",
       "      <td>12</td>\n",
       "      <td>18</td>\n",
       "      <td>179</td>\n",
       "      <td>38</td>\n",
       "      <td>3</td>\n",
       "    </tr>\n",
       "    <tr>\n",
       "      <th>3</th>\n",
       "      <td>457</td>\n",
       "      <td>Insomnia - Radio Edit</td>\n",
       "      <td>Faithless</td>\n",
       "      <td>big beat</td>\n",
       "      <td>2010</td>\n",
       "      <td>127</td>\n",
       "      <td>92</td>\n",
       "      <td>71</td>\n",
       "      <td>-9</td>\n",
       "      <td>37</td>\n",
       "      <td>53</td>\n",
       "      <td>216</td>\n",
       "      <td>6</td>\n",
       "      <td>4</td>\n",
       "    </tr>\n",
       "    <tr>\n",
       "      <th>4</th>\n",
       "      <td>458</td>\n",
       "      <td>This Eve of Parting</td>\n",
       "      <td>John Hartford</td>\n",
       "      <td>appalachian folk</td>\n",
       "      <td>2018</td>\n",
       "      <td>115</td>\n",
       "      <td>46</td>\n",
       "      <td>56</td>\n",
       "      <td>-12</td>\n",
       "      <td>21</td>\n",
       "      <td>34</td>\n",
       "      <td>153</td>\n",
       "      <td>18</td>\n",
       "      <td>3</td>\n",
       "    </tr>\n",
       "  </tbody>\n",
       "</table>\n",
       "</div>"
      ],
      "text/plain": [
       "    Id                                              title  \\\n",
       "0  454                                            Pump It   \n",
       "1  455  Circle of Life - From \"The Lion King\"/Soundtra...   \n",
       "2  456             We Are The Champions - Remastered 2011   \n",
       "3  457                              Insomnia - Radio Edit   \n",
       "4  458                                This Eve of Parting   \n",
       "\n",
       "                artist         top genre  year  bpm  nrgy  dnce  dB  live  \\\n",
       "0  The Black Eyed Peas         dance pop  2005  154    93    65  -3    75   \n",
       "1           Elton John         glam rock  1994  161    39    30 -15    11   \n",
       "2                Queen         glam rock  1977   64    46    27  -7    12   \n",
       "3            Faithless          big beat  2010  127    92    71  -9    37   \n",
       "4        John Hartford  appalachian folk  2018  115    46    56 -12    21   \n",
       "\n",
       "   val  dur  acous  spch  \n",
       "0   74  213      1    18  \n",
       "1   14  292     26     3  \n",
       "2   18  179     38     3  \n",
       "3   53  216      6     4  \n",
       "4   34  153     18     3  "
      ]
     },
     "execution_count": 139,
     "metadata": {},
     "output_type": "execute_result"
    }
   ],
   "source": [
    "test_set.head()"
   ]
  },
  {
   "cell_type": "code",
   "execution_count": 140,
   "metadata": {
    "id": "F8cEKgzwJRF0"
   },
   "outputs": [
    {
     "name": "stdout",
     "output_type": "stream",
     "text": [
      "<class 'pandas.core.frame.DataFrame'>\n",
      "RangeIndex: 453 entries, 0 to 452\n",
      "Data columns (total 15 columns):\n",
      " #   Column     Non-Null Count  Dtype \n",
      "---  ------     --------------  ----- \n",
      " 0   Id         453 non-null    int64 \n",
      " 1   title      453 non-null    object\n",
      " 2   artist     453 non-null    object\n",
      " 3   top genre  438 non-null    object\n",
      " 4   year       453 non-null    int64 \n",
      " 5   bpm        453 non-null    int64 \n",
      " 6   nrgy       453 non-null    int64 \n",
      " 7   dnce       453 non-null    int64 \n",
      " 8   dB         453 non-null    int64 \n",
      " 9   live       453 non-null    int64 \n",
      " 10  val        453 non-null    int64 \n",
      " 11  dur        453 non-null    int64 \n",
      " 12  acous      453 non-null    int64 \n",
      " 13  spch       453 non-null    int64 \n",
      " 14  pop        453 non-null    int64 \n",
      "dtypes: int64(12), object(3)\n",
      "memory usage: 53.2+ KB\n"
     ]
    }
   ],
   "source": [
    "# dataset information\n",
    "train_set.info()"
   ]
  },
  {
   "cell_type": "code",
   "execution_count": 141,
   "metadata": {
    "id": "G1oEqY1wKIMv"
   },
   "outputs": [
    {
     "name": "stdout",
     "output_type": "stream",
     "text": [
      "<class 'pandas.core.frame.DataFrame'>\n",
      "RangeIndex: 114 entries, 0 to 113\n",
      "Data columns (total 14 columns):\n",
      " #   Column     Non-Null Count  Dtype \n",
      "---  ------     --------------  ----- \n",
      " 0   Id         114 non-null    int64 \n",
      " 1   title      114 non-null    object\n",
      " 2   artist     114 non-null    object\n",
      " 3   top genre  113 non-null    object\n",
      " 4   year       114 non-null    int64 \n",
      " 5   bpm        114 non-null    int64 \n",
      " 6   nrgy       114 non-null    int64 \n",
      " 7   dnce       114 non-null    int64 \n",
      " 8   dB         114 non-null    int64 \n",
      " 9   live       114 non-null    int64 \n",
      " 10  val        114 non-null    int64 \n",
      " 11  dur        114 non-null    int64 \n",
      " 12  acous      114 non-null    int64 \n",
      " 13  spch       114 non-null    int64 \n",
      "dtypes: int64(11), object(3)\n",
      "memory usage: 12.6+ KB\n"
     ]
    }
   ],
   "source": [
    "test_set.info()"
   ]
  },
  {
   "cell_type": "code",
   "execution_count": 142,
   "metadata": {
    "colab": {
     "base_uri": "https://localhost:8080/",
     "height": 507
    },
    "id": "bxNQ1OM6Jd2i",
    "outputId": "b1b30941-7bd3-4842-bc20-566591dd3c93"
   },
   "outputs": [
    {
     "data": {
      "text/plain": [
       "<AxesSubplot:>"
      ]
     },
     "execution_count": 142,
     "metadata": {},
     "output_type": "execute_result"
    },
    {
     "data": {
      "image/png": "[encoded data removed]",
      "text/plain": [
       "<Figure size 640x480 with 2 Axes>"
      ]
     },
     "metadata": {},
     "output_type": "display_data"
    }
   ],
   "source": [
    "# heatmap to check which rows the missing data is in and the amount of missing values\n",
    "\n",
    "sns.heatmap(train_set.isna())"
   ]
  },
  {
   "cell_type": "code",
   "execution_count": 143,
   "metadata": {
    "id": "3-cS7SKCCtRv"
   },
   "outputs": [],
   "source": [
    "# Number of null values small enough to remove from dataset\n",
    "\n",
    "train_set = train_set.dropna()"
   ]
  },
  {
   "cell_type": "code",
   "execution_count": 144,
   "metadata": {
    "colab": {
     "base_uri": "https://localhost:8080/"
    },
    "id": "xmMZsA-xKOUA",
    "outputId": "d55b4cea-4691-4ba8-f807-5a8037706903"
   },
   "outputs": [
    {
     "data": {
      "text/plain": [
       "331"
      ]
     },
     "execution_count": 144,
     "metadata": {},
     "output_type": "execute_result"
    }
   ],
   "source": [
    "# Checking how many unique artists there are in training set\n",
    "\n",
    "train_set['artist'].nunique()"
   ]
  },
  {
   "cell_type": "code",
   "execution_count": 145,
   "metadata": {
    "id": "V_eeQAFaJpu9"
   },
   "outputs": [
    {
     "data": {
      "text/plain": [
       "<AxesSubplot:>"
      ]
     },
     "execution_count": 145,
     "metadata": {},
     "output_type": "execute_result"
    },
    {
     "data": {
      "image/png": "[encoded data removed]",
      "text/plain": [
       "<Figure size 640x480 with 2 Axes>"
      ]
     },
     "metadata": {},
     "output_type": "display_data"
    }
   ],
   "source": [
    "sns.heatmap(test_set.isna())"
   ]
  },
  {
   "cell_type": "code",
   "execution_count": 146,
   "metadata": {
    "colab": {
     "base_uri": "https://localhost:8080/"
    },
    "id": "mTLucxCfKe3h",
    "outputId": "830c9baf-7fc1-4f52-8da6-7f28f0d39270"
   },
   "outputs": [
    {
     "data": {
      "text/plain": [
       "86"
      ]
     },
     "execution_count": 146,
     "metadata": {},
     "output_type": "execute_result"
    }
   ],
   "source": [
    "# Checking unique top genre for training set\n",
    "# Possibility to transform this data into integers and create another feature\n",
    "\n",
    "train_set['top genre'].nunique()"
   ]
  },
  {
   "cell_type": "code",
   "execution_count": 147,
   "metadata": {
    "id": "6kJpFoMKFC7C"
   },
   "outputs": [],
   "source": [
    "# Categorical data and data which is highly correlating are removed from dataset\n",
    "\n",
    "train_set = train_set.drop(['artist', 'top genre', 'title', 'live', 'nrgy'], axis = 1)"
   ]
  },
  {
   "cell_type": "code",
   "execution_count": 148,
   "metadata": {
    "id": "gm9Xa95BBI0W"
   },
   "outputs": [
    {
     "data": {
      "text/plain": [
       "Text(0.5, 1.0, 'Correlation of features')"
      ]
     },
     "execution_count": 148,
     "metadata": {},
     "output_type": "execute_result"
    },
    {
     "data": {
      "image/png": "[encoded data removed]",
      "text/plain": [
       "<Figure size 1500x1800 with 2 Axes>"
      ]
     },
     "metadata": {},
     "output_type": "display_data"
    }
   ],
   "source": [
    "# Creting a heatmap to determine the corerlation between the features in the training set\n",
    "# to identify if there is possible multicollinearity\n",
    "\n",
    "corr = train_set.corr()\n",
    "f, ax = plt.subplots(figsize=(15,18))\n",
    "\n",
    "cmap = sns.diverging_palette(230, 20, as_cmap=True)\n",
    "\n",
    "sns.heatmap(corr, cmap = cmap, vmax=3, center=0, square=True, linewidth=0.5, annot=True)\n",
    "plt.title(\"Correlation of features\")"
   ]
  },
  {
   "cell_type": "code",
   "execution_count": 183,
   "metadata": {
    "id": "OCQENuDlD3eU"
   },
   "outputs": [],
   "source": [
    "# Define parameters for train test split\n",
    "\n",
    "X= train_set.drop(['pop', 'Id'], axis = 1)\n",
    "y= train_set['pop']"
   ]
  },
  {
   "cell_type": "code",
   "execution_count": 184,
   "metadata": {
    "colab": {
     "base_uri": "https://localhost:8080/"
    },
    "id": "S9Qo0bNwCDge",
    "outputId": "b879be8c-2a3a-42bf-946b-3380021968e4"
   },
   "outputs": [
    {
     "name": "stdout",
     "output_type": "stream",
     "text": [
      "(324, 8)\n",
      "(114, 8)\n"
     ]
    }
   ],
   "source": [
    "# Train test split initialisation\n",
    "\n",
    "X_train, X_test, y_train, y_test = train_test_split(X, y, test_size=0.26, random_state=35)\n",
    "print(X_train.shape)\n",
    "print(X_test.shape)"
   ]
  },
  {
   "cell_type": "code",
   "execution_count": 185,
   "metadata": {
    "id": "XgDBwXHNEv0H"
   },
   "outputs": [],
   "source": [
    "# Scale data with standard scaler\n",
    "\n",
    "std_scaler = StandardScaler()\n",
    "std_scaler.fit(X_train)\n",
    "X_train = std_scaler.transform(X_train)\n",
    "X_test = std_scaler.transform(X_test)"
   ]
  },
  {
   "cell_type": "code",
   "execution_count": 186,
   "metadata": {},
   "outputs": [],
   "source": [
    "# Decision tree model"
   ]
  },
  {
   "cell_type": "code",
   "execution_count": 187,
   "metadata": {
    "id": "qtzHd3XPFZxa"
   },
   "outputs": [
    {
     "data": {
      "text/plain": [
       "DecisionTreeRegressor(max_depth=5)"
      ]
     },
     "execution_count": 187,
     "metadata": {},
     "output_type": "execute_result"
    }
   ],
   "source": [
    "# Decision tree model training and evaluation\n",
    "\n",
    "dtree_model = DecisionTreeRegressor(max_depth=5)\n",
    "dtree_model.fit(X_train, y_train)"
   ]
  },
  {
   "cell_type": "code",
   "execution_count": 188,
   "metadata": {
    "id": "n92QlLUrGNKL"
   },
   "outputs": [],
   "source": [
    "dtree_pred = dtree_model.predict(X_test)"
   ]
  },
  {
   "cell_type": "code",
   "execution_count": 189,
   "metadata": {
    "colab": {
     "base_uri": "https://localhost:8080/"
    },
    "id": "daWiB8qvGW5X",
    "outputId": "785e7687-3a8b-49c3-9664-a1e34eec4df1"
   },
   "outputs": [
    {
     "name": "stdout",
     "output_type": "stream",
     "text": [
      "Decision Tree Root Mean Squared Error: 12.23864088391331\n"
     ]
    }
   ],
   "source": [
    "dtree_mse = mean_squared_error(y_test, dtree_pred)\n",
    "dtree_rmse = np.sqrt(dtree_mse)\n",
    "print(\"Decision Tree Root Mean Squared Error:\", dtree_rmse)"
   ]
  },
  {
   "cell_type": "code",
   "execution_count": 190,
   "metadata": {},
   "outputs": [
    {
     "name": "stdout",
     "output_type": "stream",
     "text": [
      "Decision Tree Predicted values:\n",
      "64.546875\n",
      "67.71974522292993\n",
      "67.71974522292993\n",
      "67.71974522292993\n",
      "30.0\n",
      "67.71974522292993\n",
      "64.546875\n",
      "67.71974522292993\n",
      "44.8\n",
      "67.71974522292993\n",
      "64.546875\n",
      "48.25\n",
      "67.71974522292993\n",
      "64.546875\n",
      "48.6\n",
      "67.71974522292993\n",
      "64.546875\n",
      "64.546875\n",
      "67.71974522292993\n",
      "67.71974522292993\n",
      "39.5\n",
      "67.71974522292993\n",
      "33.6\n",
      "47.0\n",
      "44.8\n",
      "55.0\n",
      "55.0\n",
      "64.546875\n",
      "67.71974522292993\n",
      "67.71974522292993\n",
      "67.71974522292993\n",
      "67.71974522292993\n",
      "65.57142857142857\n",
      "64.546875\n",
      "46.666666666666664\n",
      "48.25\n",
      "78.0\n",
      "64.546875\n",
      "48.6\n",
      "67.71974522292993\n",
      "55.3\n",
      "33.6\n",
      "64.546875\n",
      "67.71974522292993\n",
      "52.75\n",
      "67.71974522292993\n",
      "67.71974522292993\n",
      "54.6\n",
      "48.25\n",
      "67.71974522292993\n",
      "41.666666666666664\n",
      "38.2\n",
      "67.71974522292993\n",
      "64.546875\n",
      "44.8\n",
      "67.71974522292993\n",
      "55.0\n",
      "67.71974522292993\n",
      "67.71974522292993\n",
      "67.71974522292993\n",
      "67.71974522292993\n",
      "59.333333333333336\n",
      "53.0\n",
      "67.71974522292993\n",
      "67.71974522292993\n",
      "54.6\n",
      "67.71974522292993\n",
      "55.0\n",
      "67.71974522292993\n",
      "41.666666666666664\n",
      "64.546875\n",
      "64.546875\n",
      "64.546875\n",
      "67.71974522292993\n",
      "41.666666666666664\n",
      "64.546875\n",
      "67.71974522292993\n",
      "67.71974522292993\n",
      "44.8\n",
      "46.666666666666664\n",
      "67.71974522292993\n",
      "67.71974522292993\n",
      "67.71974522292993\n",
      "67.71974522292993\n",
      "55.0\n",
      "64.546875\n",
      "67.71974522292993\n",
      "67.71974522292993\n",
      "67.71974522292993\n",
      "61.875\n",
      "64.546875\n",
      "64.546875\n",
      "64.546875\n",
      "67.71974522292993\n",
      "67.71974522292993\n",
      "67.71974522292993\n",
      "67.71974522292993\n",
      "67.71974522292993\n",
      "67.71974522292993\n",
      "67.71974522292993\n",
      "41.666666666666664\n",
      "67.71974522292993\n",
      "55.0\n",
      "64.546875\n",
      "44.8\n",
      "67.71974522292993\n",
      "41.666666666666664\n",
      "54.6\n",
      "52.75\n",
      "61.875\n",
      "47.0\n",
      "64.546875\n",
      "52.75\n",
      "67.71974522292993\n"
     ]
    }
   ],
   "source": [
    "print(\"Decision Tree Predicted values:\")\n",
    "for pred in dtree_pred:\n",
    "    print(pred)"
   ]
  },
  {
   "cell_type": "markdown",
   "metadata": {
    "id": "_m-rk0l4fCSs"
   },
   "source": [
    "The RMSE of the decision tree algorithm did not perform as well as expected. This may be because of relatively small size of the training set which did not allow for the model to identify the patterns which exist within the data set"
   ]
  },
  {
   "cell_type": "markdown",
   "metadata": {
    "id": "QMipaTp1fVXP"
   },
   "source": [
    "Ensemble methods were also used to predict the popularity of the songs. These utilise multiple models to aggregate the predictions of the other models. Bagging and boosting models were used."
   ]
  },
  {
   "cell_type": "markdown",
   "metadata": {
    "id": "rBw_7BS1f3S4"
   },
   "source": [
    "The random forest model is an ensemble model which uses the bagging method. It combines several decision tree models and includes randomness."
   ]
  },
  {
   "cell_type": "code",
   "execution_count": 191,
   "metadata": {
    "id": "SMNc8is1sjA_"
   },
   "outputs": [
    {
     "data": {
      "text/plain": [
       "RandomForestRegressor()"
      ]
     },
     "execution_count": 191,
     "metadata": {},
     "output_type": "execute_result"
    }
   ],
   "source": [
    "# Train the Random Forest model\n",
    "rforest = RandomForestRegressor()\n",
    "rforest.fit(X_train, y_train)"
   ]
  },
  {
   "cell_type": "code",
   "execution_count": 192,
   "metadata": {
    "colab": {
     "base_uri": "https://localhost:8080/"
    },
    "id": "AQuscw-0vK6X",
    "outputId": "a1e8243e-3914-4ffe-db51-512898d57426"
   },
   "outputs": [
    {
     "name": "stdout",
     "output_type": "stream",
     "text": [
      "Random Forest Root Mean Squared Error: 11.206408880636115\n",
      "Random Forest Predicted values:\n",
      "64.55\n",
      "70.33\n",
      "73.46\n",
      "69.14\n",
      "39.05\n",
      "70.17\n",
      "65.04\n",
      "62.63\n",
      "55.63\n",
      "68.09\n",
      "68.69\n",
      "45.97\n",
      "63.66\n",
      "60.08\n",
      "57.62\n",
      "67.25\n",
      "61.73\n",
      "64.64\n",
      "68.55\n",
      "65.33\n",
      "51.5\n",
      "65.96\n",
      "47.68\n",
      "47.54\n",
      "47.98\n",
      "41.86\n",
      "53.62\n",
      "62.33\n",
      "69.01\n",
      "64.37\n",
      "69.33\n",
      "66.86\n",
      "57.98\n",
      "62.95\n",
      "46.96\n",
      "45.81\n",
      "60.44\n",
      "58.96\n",
      "52.95\n",
      "64.69\n",
      "56.85\n",
      "42.63\n",
      "59.79\n",
      "64.13\n",
      "60.69\n",
      "66.7\n",
      "64.36\n",
      "61.47\n",
      "51.23\n",
      "63.37\n",
      "55.05\n",
      "44.94\n",
      "60.71\n",
      "62.2\n",
      "49.3\n",
      "68.81\n",
      "53.8\n",
      "67.99\n",
      "64.54\n",
      "67.82\n",
      "68.91\n",
      "55.51\n",
      "57.0\n",
      "68.08\n",
      "69.35\n",
      "60.45\n",
      "69.43\n",
      "52.17\n",
      "62.4\n",
      "42.89\n",
      "69.88\n",
      "67.65\n",
      "60.16\n",
      "67.53\n",
      "52.15\n",
      "57.89\n",
      "66.9\n",
      "68.41\n",
      "53.62\n",
      "46.52\n",
      "67.31\n",
      "65.86\n",
      "69.89\n",
      "67.17\n",
      "45.42\n",
      "66.38\n",
      "67.52\n",
      "63.72\n",
      "62.73\n",
      "59.2\n",
      "63.66\n",
      "63.22\n",
      "65.67\n",
      "66.33\n",
      "66.43\n",
      "69.74\n",
      "67.89\n",
      "65.57\n",
      "67.52\n",
      "68.02\n",
      "50.23\n",
      "67.3\n",
      "52.56\n",
      "66.41\n",
      "49.62\n",
      "65.54\n",
      "52.22\n",
      "58.64\n",
      "56.6\n",
      "55.6\n",
      "50.39\n",
      "63.17\n",
      "56.43\n",
      "68.43\n"
     ]
    }
   ],
   "source": [
    "# Make predictions with Random Forest\n",
    "rforest_pred = rforest.predict(X_test)\n",
    "\n",
    "# Calculate RMSE for Random Forest\n",
    "rforest_mse = mean_squared_error(y_test, rforest_pred)\n",
    "rforest_rmse = np.sqrt(rforest_mse)\n",
    "\n",
    "print(\"Random Forest Root Mean Squared Error:\", rforest_rmse)\n",
    "\n",
    "# Output the predicted values for Random Forest\n",
    "print(\"Random Forest Predicted values:\")\n",
    "for pred in rforest_pred:\n",
    "    print(pred)"
   ]
  },
  {
   "cell_type": "markdown",
   "metadata": {
    "id": "i9byXoLogFcX"
   },
   "source": [
    "The random forest model performed a  bit better than the decision tree model with regards to the RMSE. This is possibly due to the fact that it consists of multiple decision tree models and combines them to achieve a greater result."
   ]
  },
  {
   "cell_type": "markdown",
   "metadata": {
    "id": "pIaS8E7Hq7E2"
   },
   "source": [
    "Next, two analyses were conducted: Linear Regression and SVM. Despite yielding high mean square errors, both linear regression and support vector machine (SVM) models failed to deliver accurate predictions for the dataset. This inadequacy might stem from the dataset's complexity, necessitating a more sophisticated regression model for precise performance. Acknowledging these limitations, alternative analyses were explored to extract more insightful results."
   ]
  },
  {
   "cell_type": "code",
   "execution_count": 157,
   "metadata": {
    "id": "SLSQ417stI38"
   },
   "outputs": [],
   "source": [
    "#Linear Regression"
   ]
  },
  {
   "cell_type": "code",
   "execution_count": 158,
   "metadata": {
    "id": "1YIf6UYNQ2HL"
   },
   "outputs": [],
   "source": [
    "train_data = pd.read_csv('train.csv')\n",
    "#Drop infinity/nan values\n",
    "train_data.dropna(inplace=True)\n",
    "\n",
    "test_data = pd.read_csv('test.csv')\n",
    "#Drop infinity/nan values\n",
    "test_data.dropna(inplace=True)"
   ]
  },
  {
   "cell_type": "code",
   "execution_count": 159,
   "metadata": {
    "colab": {
     "base_uri": "https://localhost:8080/"
    },
    "id": "s8nkf4cyq6T1",
    "outputId": "46fdf81c-de8f-4c97-f1ca-3faca39da8f6"
   },
   "outputs": [
    {
     "name": "stdout",
     "output_type": "stream",
     "text": [
      "Index(['Id', 'year', 'bpm', 'nrgy', 'dnce', 'live', 'val', 'dur', 'acous',\n",
      "       'spch', 'dB', 'pop'],\n",
      "      dtype='object')\n"
     ]
    }
   ],
   "source": [
    "print(train_data.columns)"
   ]
  },
  {
   "cell_type": "code",
   "execution_count": 160,
   "metadata": {
    "id": "ASLZQKpvTFke"
   },
   "outputs": [],
   "source": [
    "# names of the columns representing the features\n",
    "feature_columns = ['Id', 'year', 'bpm', 'nrgy', 'dnce', 'live', 'val', 'dur', 'acous', 'spch']\n",
    "\n",
    "#name of the column representing the target variable\n",
    "target_column = 'pop'"
   ]
  },
  {
   "cell_type": "code",
   "execution_count": 161,
   "metadata": {
    "id": "OEhArvaZtxgs"
   },
   "outputs": [],
   "source": [
    "# Extract the features and target variable from the training dataset\n",
    "X_train = train_data[feature_columns]  # Features\n",
    "y_train = train_data[target_column]    # Target variable\n"
   ]
  },
  {
   "cell_type": "code",
   "execution_count": 162,
   "metadata": {
    "colab": {
     "base_uri": "https://localhost:8080/",
     "height": 74
    },
    "id": "TgTsAstXtzcl",
    "outputId": "5790e701-9944-43be-bae2-0dc70f5f9d8d"
   },
   "outputs": [
    {
     "data": {
      "text/plain": [
       "LinearRegression()"
      ]
     },
     "execution_count": 162,
     "metadata": {},
     "output_type": "execute_result"
    }
   ],
   "source": [
    "# Initialize and fit the linear regression model\n",
    "model = LinearRegression()\n",
    "model.fit(X_train, y_train)"
   ]
  },
  {
   "cell_type": "code",
   "execution_count": 163,
   "metadata": {
    "id": "V_mR5lWqtze5"
   },
   "outputs": [],
   "source": [
    "# Extract the features from the testing dataset\n",
    "X_test = test_data[feature_columns]    # Features\n",
    "\n",
    "# Make predictions on the test set using the trained model\n",
    "y_pred = model.predict(X_test)"
   ]
  },
  {
   "cell_type": "code",
   "execution_count": 164,
   "metadata": {
    "colab": {
     "base_uri": "https://localhost:8080/"
    },
    "id": "yYVwYUQVt7NI",
    "outputId": "79142435-8476-4ac6-ce7f-59fc2a5af417"
   },
   "outputs": [
    {
     "name": "stdout",
     "output_type": "stream",
     "text": [
      "Predicted values:\n",
      "64.82298317094524\n",
      "63.85303454410459\n",
      "60.079189222649376\n",
      "67.10529940968996\n",
      "59.670706644375656\n",
      "68.11090407163158\n",
      "59.69133366635725\n",
      "47.07036851157909\n",
      "64.94027401393433\n",
      "70.41777271576186\n",
      "49.632465667773516\n",
      "67.8792614536066\n",
      "52.05133285914789\n",
      "66.73605391427836\n",
      "66.24079784960304\n",
      "64.60746669387146\n",
      "67.48971728522861\n",
      "66.84109170023598\n",
      "62.32749146130456\n",
      "65.0153703751667\n",
      "62.63557221824618\n",
      "65.24010901069457\n",
      "50.66830322582797\n",
      "56.69614661650044\n",
      "55.79566933179984\n",
      "66.14726898675337\n",
      "65.6372785901977\n",
      "58.29085024785837\n",
      "51.856634140757706\n",
      "66.9264740986925\n",
      "68.05300811414091\n",
      "57.894556206220784\n",
      "67.79752060479868\n",
      "69.439346347275\n",
      "70.74954223997415\n",
      "70.7036395007487\n",
      "59.04174598653975\n",
      "51.944231106507516\n",
      "64.39064240984908\n",
      "65.98580357253397\n",
      "65.28315546189353\n",
      "70.0748978095368\n",
      "64.67562013271927\n",
      "53.54383114923718\n",
      "67.74381987891206\n",
      "60.19238281223437\n",
      "67.13117059027675\n",
      "65.16802001024669\n",
      "59.06919239496375\n",
      "67.7399160694041\n",
      "51.499276777439945\n",
      "68.76211252361693\n",
      "57.753142001372595\n",
      "54.60404316232612\n",
      "55.80548044008586\n",
      "56.36738198397134\n",
      "70.00115094151107\n",
      "56.295128572875086\n",
      "69.27437884932922\n",
      "55.087968781781825\n",
      "63.51963755209377\n",
      "61.84974411955395\n",
      "66.38251495150428\n",
      "68.02760875795252\n",
      "64.2539512016499\n",
      "67.57285554758494\n",
      "75.14649396527071\n",
      "51.554551587198915\n",
      "60.86554047663199\n",
      "65.72151677379472\n",
      "63.79812429071214\n",
      "47.747009690109024\n",
      "56.02639418700517\n",
      "61.37536464749752\n",
      "58.15350686712361\n",
      "68.79784072120378\n",
      "68.17300415529215\n",
      "62.25593463776323\n",
      "66.86961197493989\n",
      "55.948089925381\n",
      "68.81802821038241\n",
      "58.667806032845334\n",
      "49.260957199217415\n",
      "69.34540271803903\n",
      "61.17702021901019\n",
      "61.104218308108955\n",
      "65.09766815522693\n",
      "65.08975434125108\n",
      "54.49934513223212\n",
      "68.12953582978724\n",
      "47.989378583892375\n",
      "64.0014239998124\n",
      "75.37834995468603\n",
      "66.80509592297543\n",
      "58.705285920435074\n",
      "68.2702528723064\n",
      "59.36988983109677\n",
      "58.82390856013268\n",
      "66.58872727370925\n",
      "47.01607093416317\n",
      "63.313833193000136\n",
      "66.29473723572357\n",
      "70.02160231592211\n",
      "48.1470540969253\n",
      "47.946745818499096\n",
      "75.14920265741083\n",
      "69.79713702050657\n",
      "65.64563434842415\n",
      "57.65065022032738\n",
      "64.71755360217364\n",
      "64.25424071674794\n",
      "63.97652331555767\n",
      "73.24595599133886\n",
      "65.2750501270086\n"
     ]
    }
   ],
   "source": [
    "# Output the predicted values one after the other\n",
    "print(\"Predicted values:\")\n",
    "for prediction in y_pred:\n",
    "    print(prediction)"
   ]
  },
  {
   "cell_type": "code",
   "execution_count": 165,
   "metadata": {
    "colab": {
     "base_uri": "https://localhost:8080/"
    },
    "id": "Fmz1kh5Jt-S6",
    "outputId": "4d9bd6d0-1212-4415-f3dc-8d58b2a08fb8"
   },
   "outputs": [
    {
     "name": "stdout",
     "output_type": "stream",
     "text": [
      "Mean Squared Error: 7.527602265233532e-18\n",
      "R-squared: 1.0\n"
     ]
    }
   ],
   "source": [
    "from sklearn.metrics import mean_squared_error, r2_score\n",
    "\n",
    "# Extract the true target variable from the testing dataset\n",
    "y_test = test_data[target_column]      # True target variable\n",
    "\n",
    "# Calculate the Mean Squared Error (MSE)\n",
    "mse = mean_squared_error(y_test, y_pred)\n",
    "print('Mean Squared Error:', mse)\n",
    "\n",
    "# Calculate the R-squared value\n",
    "r_squared = r2_score(y_test, y_pred)\n",
    "print('R-squared:', r_squared)\n",
    "\n"
   ]
  },
  {
   "cell_type": "code",
   "execution_count": 166,
   "metadata": {
    "colab": {
     "base_uri": "https://localhost:8080/",
     "height": 619
    },
    "id": "J5yBH9N-uIbr",
    "outputId": "7aeb8f5d-2b4d-4f2f-fffa-c2b80b3fe29e"
   },
   "outputs": [
    {
     "name": "stderr",
     "output_type": "stream",
     "text": [
      "C:\\Users\\andre\\AppData\\Local\\Temp\\ipykernel_1720\\550090810.py:4: UserWarning: color is redundantly defined by the 'color' keyword argument and the fmt string \"k--\" (-> color='k'). The keyword argument will take precedence.\n",
      "  plt.plot([y_test.min(), y_test.max()], [y_test.min(), y_test.max()], 'k--', lw=2, color='red')\n"
     ]
    },
    {
     "data": {
      "image/png": "[encoded data removed]",
      "text/plain": [
       "<Figure size 1000x600 with 1 Axes>"
      ]
     },
     "metadata": {},
     "output_type": "display_data"
    }
   ],
   "source": [
    "import matplotlib.pyplot as plt\n",
    "plt.figure(figsize=(10, 6))\n",
    "plt.scatter(y_test, y_pred, color='green', marker='x', label='Actual vs. Predicted')\n",
    "plt.plot([y_test.min(), y_test.max()], [y_test.min(), y_test.max()], 'k--', lw=2, color='red')\n",
    "plt.xlabel('Actual')\n",
    "plt.ylabel('Predicted')\n",
    "plt.title('Actual vs. Predicted Values')\n",
    "plt.legend(loc='upper left')\n",
    "plt.grid(True)\n",
    "plt.show()"
   ]
  },
  {
   "cell_type": "code",
   "execution_count": 167,
   "metadata": {
    "id": "B9eUT4qPuN03"
   },
   "outputs": [],
   "source": [
    "#SVM Regression"
   ]
  },
  {
   "cell_type": "code",
   "execution_count": 168,
   "metadata": {
    "id": "kasHvau9uP_g"
   },
   "outputs": [],
   "source": [
    "import pandas as pd\n",
    "from sklearn.svm import SVR\n",
    "from sklearn.preprocessing import StandardScaler"
   ]
  },
  {
   "cell_type": "code",
   "execution_count": 169,
   "metadata": {
    "id": "hzbjpr4HuQFy"
   },
   "outputs": [],
   "source": [
    "# Load your training dataset into a pandas DataFrame\n",
    "train_data = pd.read_csv('train.csv')\n",
    "train_data.dropna(inplace=True)\n",
    "\n",
    "# Load your testing dataset into a pandas DataFrame\n",
    "test_data = pd.read_csv('test2.csv')\n",
    "test_data.dropna(inplace=True)\n"
   ]
  },
  {
   "cell_type": "code",
   "execution_count": 170,
   "metadata": {
    "colab": {
     "base_uri": "https://localhost:8080/"
    },
    "id": "3OT_BacPuQKY",
    "outputId": "3c20deb1-8100-479e-9fe3-8c7e64cf4747"
   },
   "outputs": [
    {
     "name": "stdout",
     "output_type": "stream",
     "text": [
      "Index(['Id', 'year', 'bpm', 'nrgy', 'dnce', 'live', 'val', 'dur', 'acous',\n",
      "       'spch', 'dB', 'pop'],\n",
      "      dtype='object')\n"
     ]
    }
   ],
   "source": [
    "# Print out column names to verify\n",
    "print(train_data.columns)"
   ]
  },
  {
   "cell_type": "code",
   "execution_count": 171,
   "metadata": {
    "id": "taCP4GaHuQOS"
   },
   "outputs": [],
   "source": [
    "# Specify the names of the columns representing the features\n",
    "feature_columns = ['Id', 'year', 'bpm', 'nrgy', 'dnce', 'live', 'val', 'dur', 'acous', 'spch']\n",
    "\n",
    "# Specify the name of the column representing the target variable\n",
    "target_column = 'pop'"
   ]
  },
  {
   "cell_type": "code",
   "execution_count": 172,
   "metadata": {
    "id": "RiS4NsrvxhXA"
   },
   "outputs": [],
   "source": [
    "# Extract the features and target variable from the training dataset\n",
    "X_train = train_data[feature_columns]  # Features\n",
    "y_train = train_data[target_column]    # Target variable"
   ]
  },
  {
   "cell_type": "code",
   "execution_count": 173,
   "metadata": {
    "id": "mJXpJsRhxkKF"
   },
   "outputs": [],
   "source": [
    "# Extract the features from the testing dataset\n",
    "X_test = test_data[feature_columns]    # Features\n",
    "\n",
    "# Scale the features\n",
    "scaler = StandardScaler()\n",
    "X_train_scaled = scaler.fit_transform(X_train)\n",
    "X_test_scaled = scaler.transform(X_test)"
   ]
  },
  {
   "cell_type": "code",
   "execution_count": 174,
   "metadata": {
    "id": "n8XVXuv8xkSD"
   },
   "outputs": [],
   "source": [
    "# Initialize and fit the SVM regression model\n",
    "svm_regressor = SVR(kernel='linear')\n",
    "svm_regressor.fit(X_train_scaled, y_train)\n",
    "\n",
    "# Make predictions on the test set using the trained model\n",
    "y_pred = svm_regressor.predict(X_test_scaled)\n"
   ]
  },
  {
   "cell_type": "code",
   "execution_count": 175,
   "metadata": {
    "id": "pbgBlOHRxqJ4"
   },
   "outputs": [
    {
     "name": "stdout",
     "output_type": "stream",
     "text": [
      "Predicted values:\n",
      "65.64913498036353\n",
      "64.73885419437644\n",
      "59.62848489737293\n",
      "68.1492106025592\n",
      "60.31397361714212\n",
      "69.77310778471656\n",
      "59.67463786235963\n",
      "47.071641412064594\n",
      "66.27934103873007\n",
      "70.77207606097095\n",
      "50.47410463623501\n",
      "68.9185924509588\n",
      "52.477793022986674\n",
      "67.21181148829942\n",
      "66.95768292482013\n",
      "65.41021347301836\n",
      "66.56386649620912\n",
      "67.19631389240108\n",
      "64.67525323845213\n",
      "66.37340444322186\n",
      "63.94638848612795\n",
      "64.35711311767713\n",
      "51.521558732843374\n",
      "58.427130234101746\n",
      "57.30530323997333\n",
      "67.33419475888101\n",
      "66.13274930457946\n",
      "58.17746014827051\n",
      "52.60884597047169\n",
      "69.34710628624\n",
      "68.79127036468657\n",
      "59.539074002791686\n",
      "70.44392141024407\n",
      "72.51594276873784\n",
      "72.72781721738421\n",
      "73.2221643926186\n",
      "61.79204766736\n",
      "52.04304317215766\n",
      "64.27508853844974\n",
      "67.6943630149789\n",
      "67.32911306872118\n",
      "73.41975999344847\n",
      "64.4538583358617\n",
      "53.907894949305486\n",
      "68.10149199888556\n",
      "59.77446531501879\n",
      "67.60263035474117\n",
      "68.35572655929721\n",
      "59.69382537588517\n",
      "68.22067217674086\n",
      "52.09251927549549\n",
      "70.99447524012174\n",
      "60.3502461341788\n",
      "56.15278493794167\n",
      "57.282534749981316\n",
      "56.284634152444916\n",
      "71.98676856788492\n",
      "57.08582222519306\n",
      "71.82092880886749\n",
      "55.66498100729457\n",
      "64.72621953147382\n",
      "63.60302909633772\n",
      "66.88676251324341\n",
      "69.17467119706636\n",
      "65.37619706812436\n",
      "69.69316396335431\n",
      "78.55386421060604\n",
      "51.8475394947133\n",
      "62.89131287605106\n",
      "68.77440699286089\n",
      "65.03281943059129\n",
      "48.82827260650585\n",
      "56.20482712523502\n",
      "61.46190553038349\n",
      "59.25682514171011\n",
      "71.19778128952828\n",
      "69.72202974019191\n",
      "63.127727461417244\n",
      "68.43788104355502\n",
      "56.45711232147114\n",
      "69.1870072494717\n",
      "58.13050294030385\n",
      "50.0623166732408\n",
      "70.16716302862912\n",
      "61.50620845887483\n",
      "60.62999711145297\n",
      "65.85875031171162\n",
      "65.91756477233561\n",
      "54.645103927909695\n",
      "69.70967172964907\n",
      "49.19342392423937\n",
      "63.42199517676035\n",
      "78.6233408912813\n",
      "69.23685551105983\n",
      "60.63983527099448\n",
      "70.70914206992819\n",
      "60.075287272833016\n",
      "60.27192060726989\n",
      "68.63736079112377\n",
      "47.5997561111799\n",
      "64.22214253676185\n",
      "66.91385123113176\n",
      "71.35891202565834\n",
      "48.66282001979936\n",
      "48.7805198801728\n",
      "77.32833146218532\n",
      "72.14668260804282\n",
      "67.34588889202041\n",
      "58.032209901866075\n",
      "66.25778517273424\n",
      "64.72842115531755\n",
      "66.66516267916043\n",
      "74.80287119701325\n",
      "65.44589166768145\n"
     ]
    }
   ],
   "source": [
    "# Print the predicted values one after the other\n",
    "print(\"Predicted values:\")\n",
    "for prediction in y_pred:\n",
    "    print(prediction)"
   ]
  },
  {
   "cell_type": "code",
   "execution_count": 176,
   "metadata": {
    "colab": {
     "base_uri": "https://localhost:8080/"
    },
    "id": "Y05TrIe7xvbl",
    "outputId": "a4b099b8-8be9-4c42-de61-eeda88ec92da"
   },
   "outputs": [
    {
     "name": "stdout",
     "output_type": "stream",
     "text": [
      "Mean Squared Error: 7.458377539748015e-18\n",
      "R-squared: 1.0\n"
     ]
    }
   ],
   "source": [
    "from sklearn.metrics import mean_squared_error, r2_score\n",
    "from sklearn.preprocessing import StandardScaler\n",
    "\n",
    "y_test = test_data[target_column]\n",
    "\n",
    "# Calculate the Mean Squared Error (MSE)\n",
    "mse = mean_squared_error(y_test, y_pred)\n",
    "print('Mean Squared Error:', mse)\n",
    "\n",
    "# Calculate the R-squared value\n",
    "r_squared = r2_score(y_test, y_pred)\n",
    "print('R-squared:', r_squared)\n"
   ]
  },
  {
   "cell_type": "code",
   "execution_count": 177,
   "metadata": {
    "id": "W7jsFRumxyRU"
   },
   "outputs": [
    {
     "name": "stderr",
     "output_type": "stream",
     "text": [
      "C:\\Users\\andre\\AppData\\Local\\Temp\\ipykernel_1720\\2035673286.py:6: UserWarning: color is redundantly defined by the 'color' keyword argument and the fmt string \"k--\" (-> color='k'). The keyword argument will take precedence.\n",
      "  plt.plot([y_test.min(), y_test.max()], [y_test.min(), y_test.max()], 'k--', lw=2, color='red')\n"
     ]
    },
    {
     "data": {
      "image/png": "[encoded data removed]",
      "text/plain": [
       "<Figure size 1000x600 with 1 Axes>"
      ]
     },
     "metadata": {},
     "output_type": "display_data"
    }
   ],
   "source": [
    "import matplotlib.pyplot as plt\n",
    "\n",
    "# Plot actual vs. predicted values\n",
    "plt.figure(figsize=(10, 6))\n",
    "plt.scatter(y_test, y_pred, color='blue', label='Actual vs. Predicted')\n",
    "plt.plot([y_test.min(), y_test.max()], [y_test.min(), y_test.max()], 'k--', lw=2, color='red')\n",
    "plt.xlabel('Actual')\n",
    "plt.ylabel('Predicted')\n",
    "plt.title('Actual vs. Predicted Values')\n",
    "plt.legend(loc='upper left')\n",
    "plt.grid(True)\n",
    "plt.show()"
   ]
  }
 ],
 "metadata": {
  "colab": {
   "provenance": []
  },
  "kernelspec": {
   "display_name": "Python 3 (ipykernel)",
   "language": "python",
   "name": "python3"
  },
  "language_info": {
   "codemirror_mode": {
    "name": "ipython",
    "version": 3
   },
   "file_extension": ".py",
   "mimetype": "text/x-python",
   "name": "python",
   "nbconvert_exporter": "python",
   "pygments_lexer": "ipython3",
   "version": "3.9.13"
  }
 },
 "nbformat": 4,
 "nbformat_minor": 1
}
